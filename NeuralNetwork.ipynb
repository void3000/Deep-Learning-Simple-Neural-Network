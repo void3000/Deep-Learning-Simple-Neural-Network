{
 "cells": [
  {
   "cell_type": "code",
   "execution_count": 1,
   "metadata": {},
   "outputs": [],
   "source": [
    "import numpy as np\n",
    "from tqdm import tqdm\n",
    "from matplotlib import pyplot as plt\n",
    "\n",
    "%matplotlib inline"
   ]
  },
  {
   "cell_type": "code",
   "execution_count": 2,
   "metadata": {},
   "outputs": [],
   "source": [
    "class Input(object):\n",
    "    def __init__(self,input_shape):\n",
    "        self.input_shape = input_shape\n",
    "        pass\n",
    "    \n",
    "    def forward(self,x):\n",
    "        if x.shape != self.input_shape:\n",
    "            raise Exception('Exception: x.shape != self.input_shape')\n",
    "        return x\n",
    "    \n",
    "    def __rep__(self):\n",
    "        return \"{0}\".format(self.__class__)\n",
    "    \n",
    "    def __str__(self):\n",
    "        return \"Input shape : {0}\".format(self.input_shape)"
   ]
  },
  {
   "cell_type": "code",
   "execution_count": 3,
   "metadata": {},
   "outputs": [],
   "source": [
    "class Dense(object):\n",
    "    def __init__(self,inputs, units, activation, learning_rate=None):\n",
    "        self.activation = activation\n",
    "        self.inputs = inputs\n",
    "        self.units = units\n",
    "        \n",
    "        self.weights = np.random.rand(inputs,units)\n",
    "        \n",
    "        if learning_rate is None:\n",
    "            learning_rate = 0.5\n",
    "        self.learning_rate = learning_rate\n",
    "        pass\n",
    "    \n",
    "    def forward(self,x):\n",
    "        self.activated = self.activation((np.dot(self.weights.T,x)))\n",
    "        return self.activated\n",
    "    \n",
    "    def update(self,x):\n",
    "        self.weights -= x*self.learning_rate\n",
    "        pass\n",
    "    \n",
    "    def __rep__(self):\n",
    "        return \"{0}\".format(self.__class__)\n",
    "    \n",
    "    def __str__(self):\n",
    "        return \"Weights : {0}\".format(self.weights)"
   ]
  },
  {
   "cell_type": "code",
   "execution_count": 4,
   "metadata": {},
   "outputs": [],
   "source": [
    "class Model(object):\n",
    "    def __init__(self, placeholder=None):\n",
    "        self.placeholder = placeholder\n",
    "        self.layers = []\n",
    "        pass\n",
    "    \n",
    "    def add(self,layer=None):\n",
    "        self.layers.append(layer)\n",
    "        pass\n",
    "    \n",
    "    def fit(self,x,labels,epochs,loss, optimizer):\n",
    "        history = []\n",
    "        \n",
    "        input_layer  = self.layers[0]\n",
    "        hidden_layer = self.layers[1]\n",
    "        output_layer = self.layers[2]\n",
    "        \n",
    "        for _ in tqdm(range(epochs)):\n",
    "            cost = 0.0\n",
    "            for i in range(len(x_train)):\n",
    "                xx = np.array(x[i])\n",
    "                yy = np.array(labels[i])\n",
    "                \n",
    "                # Forward propagation\n",
    "                a0 = input_layer.forward(xx)\n",
    "                a1 = hidden_layer.forward(a0)\n",
    "                o  = output_layer.forward(a1)\n",
    "\n",
    "                diff = (o-yy)\n",
    "                cost += loss(diff)\n",
    "                \n",
    "                # Back propagation\n",
    "                common = (diff)*optimizer(o)\n",
    "                w1 = np.dot(common,a1.T)\n",
    "                w0 = np.dot((np.dot(common.T,output_layer.weights.T)*optimizer(a1.T)).T,a0.T)\n",
    "                \n",
    "                # Update weights\n",
    "                output_layer.update(w1.T)\n",
    "                hidden_layer.update(w0.T)\n",
    "                \n",
    "            history.append(cost/len(x_train))\n",
    "            \n",
    "        return history\n",
    "    \n",
    "    def predict(self,x):\n",
    "        input_layer  = self.layers[0]\n",
    "        hidden_layer = self.layers[1]\n",
    "        output_layer = self.layers[2]\n",
    "        \n",
    "        a0 = input_layer.forward(x)\n",
    "        a1 = hidden_layer.forward(a0)\n",
    "        o  = output_layer.forward(a1)\n",
    "        \n",
    "        return o\n",
    "    \n",
    "    def __rep__(self):\n",
    "        return \"{0}\".format(self.__class__)\n",
    "    \n",
    "    def __str__(self):\n",
    "        return \"Layers : {0}\".format(self.layers)"
   ]
  },
  {
   "cell_type": "code",
   "execution_count": 5,
   "metadata": {},
   "outputs": [],
   "source": [
    "# Activation function(s)\n",
    "def sigmoid(x):\n",
    "    return 1.0/(1.0+np.exp(-x))\n",
    "\n",
    "def sigmoid_prime(x):\n",
    "    return x*(1.0-x)\n",
    "\n",
    "def tanh(x):\n",
    "    return np.tanh(x)\n",
    "\n",
    "def tanh_prime(x):\n",
    "    return 1.0 - x**2\n",
    "\n",
    "# Loss function(s)\n",
    "def rmse(x):\n",
    "    return np.sum(np.square(x)/2)"
   ]
  },
  {
   "cell_type": "code",
   "execution_count": 6,
   "metadata": {},
   "outputs": [],
   "source": [
    "x_train = np.array([\n",
    "                    [[1],[0]],\n",
    "                    [[0],[0]],\n",
    "                    [[0],[1]],\n",
    "                    [[1],[1]]\n",
    "                   ])\n",
    "y_train = np.array([\n",
    "                    [[0]],\n",
    "                    [[0]],\n",
    "                    [[0]],\n",
    "                    [[1]]\n",
    "                    ])"
   ]
  },
  {
   "cell_type": "code",
   "execution_count": 7,
   "metadata": {},
   "outputs": [],
   "source": [
    "model = Model()\n",
    "\n",
    "model.add(Input(input_shape=(2,1)))\n",
    "model.add(Dense(inputs=2, units=3, activation=sigmoid))\n",
    "model.add(Dense(inputs=3, units=1, activation=sigmoid))"
   ]
  },
  {
   "cell_type": "code",
   "execution_count": 8,
   "metadata": {},
   "outputs": [
    {
     "name": "stderr",
     "output_type": "stream",
     "text": [
      "100%|██████████| 5000/5000 [00:00<00:00, 8393.97it/s]\n"
     ]
    }
   ],
   "source": [
    "yy = model.fit(x=x_train, labels=y_train, epochs=5000,loss=rmse, optimizer=sigmoid_prime)"
   ]
  },
  {
   "cell_type": "code",
   "execution_count": 9,
   "metadata": {},
   "outputs": [
    {
     "data": {
      "image/png": "[encoded data removed]",
      "text/plain": [
       "<Figure size 432x288 with 1 Axes>"
      ]
     },
     "metadata": {
      "needs_background": "light"
     },
     "output_type": "display_data"
    }
   ],
   "source": [
    "plt.figure()\n",
    "plt.plot(yy,color = 'b')\n",
    "plt.xlabel('Iteration')\n",
    "plt.ylabel('Error')\n",
    "plt.show()"
   ]
  },
  {
   "cell_type": "code",
   "execution_count": 10,
   "metadata": {},
   "outputs": [
    {
     "data": {
      "text/plain": [
       "array([[0.022207]])"
      ]
     },
     "execution_count": 10,
     "metadata": {},
     "output_type": "execute_result"
    }
   ],
   "source": [
    "model.predict(np.array([[0],[1]]))"
   ]
  },
  {
   "cell_type": "code",
   "execution_count": 11,
   "metadata": {},
   "outputs": [
    {
     "data": {
      "text/plain": [
       "array([[0.96962324]])"
      ]
     },
     "execution_count": 11,
     "metadata": {},
     "output_type": "execute_result"
    }
   ],
   "source": [
    "model.predict(np.array([[1],[1]]))"
   ]
  },
  {
   "cell_type": "code",
   "execution_count": null,
   "metadata": {},
   "outputs": [],
   "source": []
  }
 ],
 "metadata": {
  "kernelspec": {
   "display_name": "Python 3",
   "language": "python",
   "name": "python3"
  },
  "language_info": {
   "codemirror_mode": {
    "name": "ipython",
    "version": 3
   },
   "file_extension": ".py",
   "mimetype": "text/x-python",
   "name": "python",
   "nbconvert_exporter": "python",
   "pygments_lexer": "ipython3",
   "version": "3.6.7"
  }
 },
 "nbformat": 4,
 "nbformat_minor": 2
}
