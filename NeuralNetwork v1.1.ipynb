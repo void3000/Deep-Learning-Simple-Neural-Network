{
 "cells": [
  {
   "cell_type": "code",
   "execution_count": 1,
   "metadata": {},
   "outputs": [],
   "source": [
    "import numpy as np\n",
    "from tqdm import tqdm\n",
    "from matplotlib import pyplot as plt\n",
    "\n",
    "%matplotlib inline\n",
    "\n",
    "from sklearn.datasets import load_iris"
   ]
  },
  {
   "cell_type": "code",
   "execution_count": 2,
   "metadata": {},
   "outputs": [],
   "source": [
    "class Input(object):\n",
    "    def __init__(self,input_shape):\n",
    "        self.input_shape = input_shape\n",
    "        pass\n",
    "    \n",
    "    def forward(self,x):\n",
    "        if x.shape != self.input_shape:\n",
    "            raise Exception('Exception: x.shape != self.input_shape')\n",
    "        return x\n",
    "    \n",
    "    def __rep__(self):\n",
    "        return \"{0}\".format(self.__class__)\n",
    "    \n",
    "    def __str__(self):\n",
    "        return \"Input shape : {0}\".format(self.input_shape)"
   ]
  },
  {
   "cell_type": "code",
   "execution_count": 3,
   "metadata": {},
   "outputs": [],
   "source": [
    "class Dense(object):\n",
    "    def __init__(self,inputs, units, activation, learning_rate=None):\n",
    "        self.activation = activation\n",
    "        self.inputs = inputs\n",
    "        self.units = units\n",
    "        \n",
    "        self.weights = np.random.rand(inputs,units)\n",
    "        \n",
    "        if learning_rate is None:\n",
    "            learning_rate = 0.5\n",
    "        self.learning_rate = learning_rate\n",
    "        pass\n",
    "    \n",
    "    def forward(self,x):\n",
    "        self.activated = self.activation((np.dot(self.weights.T,x)))\n",
    "        return self.activated\n",
    "    \n",
    "    def update(self,x):\n",
    "        self.weights -= x*self.learning_rate\n",
    "        pass\n",
    "    \n",
    "    def __rep__(self):\n",
    "        return \"{0}\".format(self.__class__)\n",
    "    \n",
    "    def __str__(self):\n",
    "        return \"{0}\".format(self.weights.shape)"
   ]
  },
  {
   "cell_type": "code",
   "execution_count": 4,
   "metadata": {},
   "outputs": [],
   "source": [
    "class Model(object):\n",
    "    def __init__(self, layers=[],placeholder=None):\n",
    "        self.placeholder = placeholder\n",
    "        self.layers = layers\n",
    "        pass\n",
    "    \n",
    "    def add(self,layer=None):\n",
    "        self.layers.append(layer)\n",
    "        pass\n",
    "    \n",
    "    def fit(self,x,labels,epochs,loss, optimizer):\n",
    "        history = []\n",
    "        \n",
    "        input_layer  = self.layers[0]\n",
    "        hidden_layer = self.layers[1]\n",
    "        output_layer = self.layers[2]\n",
    "        \n",
    "        for _ in tqdm(range(epochs)):\n",
    "            cost = 0.0\n",
    "            for i in range(len(x_train)):\n",
    "                xx = np.array(x[i])\n",
    "                yy = np.array(labels[i])\n",
    "                \n",
    "                # Forward propagation\n",
    "                a0 = input_layer.forward(xx)\n",
    "                a1 = hidden_layer.forward(a0)\n",
    "                o  = output_layer.forward(a1)\n",
    "                \n",
    "                # Cost\n",
    "                diff = (o-yy)\n",
    "                cost += loss(diff)\n",
    "                \n",
    "                # Back propagation\n",
    "                common = ((diff)*optimizer(o)).T\n",
    "                w1 = np.dot(a1,common)\n",
    "#                 print(\"{0}x{1} = {2}\".format(a2.shape,common.shape,w2.shape))\n",
    "            \n",
    "                common = np.dot(common,output_layer.weights.T)*optimizer(a1.T)\n",
    "                w0 = np.dot(a0,(common))\n",
    "#                 print(\"{0}x{1} = {2}\".format(a0.shape,common.shape,w0.shape))\n",
    "                \n",
    "                # Update weights\n",
    "                output_layer.update(w1)\n",
    "                hidden_layer.update(w0)\n",
    "                \n",
    "            history.append(cost/len(x_train))\n",
    "            \n",
    "        return history\n",
    "    \n",
    "    def predict(self,x):\n",
    "        input_layer  = self.layers[0]\n",
    "        hidden_layer = self.layers[1]\n",
    "        output_layer = self.layers[2]\n",
    "        \n",
    "        a0 = input_layer.forward(x)\n",
    "        a1 = hidden_layer.forward(a0)\n",
    "        o  = output_layer.forward(a1)\n",
    "        \n",
    "        return o\n",
    "    \n",
    "    def __rep__(self):\n",
    "        return \"{0}\".format(self.__class__)\n",
    "    \n",
    "    def __str__(self):\n",
    "        return \"Layers : {0}\".format(self.layers)"
   ]
  },
  {
   "cell_type": "code",
   "execution_count": 5,
   "metadata": {},
   "outputs": [],
   "source": [
    "# Activation function(s)\n",
    "def sigmoid(z):\n",
    "    return 1.0/(1.0+np.exp(-z))\n",
    "\n",
    "def sigmoid_prime(z):\n",
    "    return z*(1.0-z)\n",
    "\n",
    "def tanh(z):\n",
    "    return np.tanh(z)\n",
    "\n",
    "def tanh_prime(z):\n",
    "    return 1.0 - z**2\n",
    "\n",
    "def softmax(z):\n",
    "    return np.exp(z)/np.sum(np.exp(z))\n",
    "\n",
    "def relu(z):\n",
    "    return np.max(0,z)\n",
    "\n",
    "# Loss function(s)\n",
    "def rmse(x):\n",
    "    return np.sum(np.square(x)/2)"
   ]
  },
  {
   "cell_type": "code",
   "execution_count": 6,
   "metadata": {
    "scrolled": true
   },
   "outputs": [],
   "source": [
    "# Data preprocessing\n",
    "iris = load_iris()\n",
    "\n",
    "labels = ['setosa','versicolor','virginica']\n",
    "categories = np.array([[1,0,0],[0,1,0],[0,0,1]])\n",
    "\n",
    "x_train = np.array([m.reshape(4,1) for m in iris.data])\n",
    "y_train = np.array([categories[m].reshape(3,1) for m in iris.target])"
   ]
  },
  {
   "cell_type": "code",
   "execution_count": 7,
   "metadata": {},
   "outputs": [],
   "source": [
    "# Training data\n",
    "# x_train = np.array([\n",
    "#                     [[1],[0]],\n",
    "#                     [[0],[0]],\n",
    "#                     [[0],[1]],\n",
    "#                     [[1],[1]],\n",
    "#                     [[1],[0]],\n",
    "#                     [[0],[0]],\n",
    "#                     [[0],[1]],\n",
    "#                     [[1],[1]]\n",
    "#                    ])\n",
    "# y_train = np.array([\n",
    "#                     [[0]],\n",
    "#                     [[0]],\n",
    "#                     [[0]],\n",
    "#                     [[1]],\n",
    "#                     [[0]],\n",
    "#                     [[0]],\n",
    "#                     [[0]],\n",
    "#                     [[1]]\n",
    "#                     ])\n",
    "\n",
    "# x_train = np.array([\n",
    "#                     [[1],[0]],\n",
    "#                     [[0],[0]],\n",
    "#                     [[0],[1]],\n",
    "#                     [[1],[1]],\n",
    "#                     [[1],[0]],\n",
    "#                     [[0],[0]],\n",
    "#                     [[0],[1]],\n",
    "#                     [[1],[1]]\n",
    "#                    ])\n",
    "# y_train = np.array([\n",
    "#                     [[0],[1]],\n",
    "#                     [[0],[0]],\n",
    "#                     [[1],[0]],\n",
    "#                     [[1],[1]],\n",
    "#                     [[0],[1]],\n",
    "#                     [[0],[0]],\n",
    "#                     [[1],[0]],\n",
    "#                     [[1],[1]]\n",
    "#                     ])"
   ]
  },
  {
   "cell_type": "code",
   "execution_count": 13,
   "metadata": {},
   "outputs": [],
   "source": [
    "model = Model(layers=[Input(input_shape=(4,1)),\n",
    "                     Dense(inputs=4, units=9, activation=sigmoid),\n",
    "                     Dense(inputs=9, units=3, activation=sigmoid)\n",
    "                    ])\n",
    "\n",
    "# model.add(Input(input_shape=(2,1)))\n",
    "# model.add(Dense(inputs=2, units=3, activation=sigmoid))\n",
    "# model.add(Dense(inputs=3, units=1, activation=sigmoid))"
   ]
  },
  {
   "cell_type": "code",
   "execution_count": 14,
   "metadata": {},
   "outputs": [
    {
     "name": "stderr",
     "output_type": "stream",
     "text": [
      "100%|██████████| 500/500 [00:02<00:00, 228.88it/s]\n"
     ]
    }
   ],
   "source": [
    "yy = model.fit(x=x_train, labels=y_train, epochs=500,loss=rmse, optimizer=sigmoid_prime)"
   ]
  },
  {
   "cell_type": "code",
   "execution_count": 15,
   "metadata": {},
   "outputs": [
    {
     "data": {
      "image/png": "[encoded data removed]",
      "text/plain": [
       "<Figure size 432x288 with 1 Axes>"
      ]
     },
     "metadata": {
      "needs_background": "light"
     },
     "output_type": "display_data"
    }
   ],
   "source": [
    "plt.figure()\n",
    "plt.plot(yy,color = 'b')\n",
    "plt.xlabel('Iteration')\n",
    "plt.ylabel('Error')\n",
    "plt.show()"
   ]
  },
  {
   "cell_type": "code",
   "execution_count": 16,
   "metadata": {},
   "outputs": [
    {
     "name": "stdout",
     "output_type": "stream",
     "text": [
      "setosa [0.99135874]\n"
     ]
    }
   ],
   "source": [
    "pred = model.predict(np.array([[5.1],\n",
    "        [3.5],\n",
    "        [1.4],\n",
    "        [0.2]]))\n",
    "m = np.argmax(softmax(pred))\n",
    "print(labels[np.argmax(pred)], pred[m])         # We are expecting setosa"
   ]
  },
  {
   "cell_type": "code",
   "execution_count": 17,
   "metadata": {},
   "outputs": [
    {
     "name": "stdout",
     "output_type": "stream",
     "text": [
      "versicolor [0.96988227]\n"
     ]
    }
   ],
   "source": [
    "pred = model.predict(np.array([[6.8],\n",
    "        [2.8],\n",
    "        [4.8],\n",
    "        [1.4]]))\n",
    "m = np.argmax(softmax(pred))\n",
    "print(labels[m], pred[m])                       # We are expecting versicolor"
   ]
  },
  {
   "cell_type": "code",
   "execution_count": null,
   "metadata": {},
   "outputs": [],
   "source": []
  }
 ],
 "metadata": {
  "kernelspec": {
   "display_name": "Python 3",
   "language": "python",
   "name": "python3"
  },
  "language_info": {
   "codemirror_mode": {
    "name": "ipython",
    "version": 3
   },
   "file_extension": ".py",
   "mimetype": "text/x-python",
   "name": "python",
   "nbconvert_exporter": "python",
   "pygments_lexer": "ipython3",
   "version": "3.6.7"
  }
 },
 "nbformat": 4,
 "nbformat_minor": 2
}
